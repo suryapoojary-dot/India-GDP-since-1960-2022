{
 "cells": [
  {
   "cell_type": "markdown",
   "metadata": {},
   "source": [
    "## The rise of India's Gross Domestic Product metric- An analysis."
   ]
  },
  {
   "cell_type": "code",
   "execution_count": 1,
   "metadata": {},
   "outputs": [
    {
     "data": {
      "text/html": [
       "<div>\n",
       "<style scoped>\n",
       "    .dataframe tbody tr th:only-of-type {\n",
       "        vertical-align: middle;\n",
       "    }\n",
       "\n",
       "    .dataframe tbody tr th {\n",
       "        vertical-align: top;\n",
       "    }\n",
       "\n",
       "    .dataframe thead th {\n",
       "        text-align: right;\n",
       "    }\n",
       "</style>\n",
       "<table border=\"1\" class=\"dataframe\">\n",
       "  <thead>\n",
       "    <tr style=\"text-align: right;\">\n",
       "      <th></th>\n",
       "      <th>Unnamed: 0</th>\n",
       "      <th>India GDP - Historical Data</th>\n",
       "      <th>India GDP - Historical Data.1</th>\n",
       "      <th>India GDP - Historical Data.2</th>\n",
       "      <th>India GDP - Historical Data.3</th>\n",
       "    </tr>\n",
       "  </thead>\n",
       "  <tbody>\n",
       "    <tr>\n",
       "      <th>0</th>\n",
       "      <td>NaN</td>\n",
       "      <td>Year</td>\n",
       "      <td>GDP</td>\n",
       "      <td>Per Capita</td>\n",
       "      <td>Growth</td>\n",
       "    </tr>\n",
       "    <tr>\n",
       "      <th>1</th>\n",
       "      <td>0.0</td>\n",
       "      <td>2021</td>\n",
       "      <td>$3,173.40B</td>\n",
       "      <td>$2,277</td>\n",
       "      <td>8.95%</td>\n",
       "    </tr>\n",
       "    <tr>\n",
       "      <th>2</th>\n",
       "      <td>1.0</td>\n",
       "      <td>2020</td>\n",
       "      <td>$2,667.69B</td>\n",
       "      <td>$1,933</td>\n",
       "      <td>-6.60%</td>\n",
       "    </tr>\n",
       "    <tr>\n",
       "      <th>3</th>\n",
       "      <td>2.0</td>\n",
       "      <td>2019</td>\n",
       "      <td>$2,831.55B</td>\n",
       "      <td>$2,072</td>\n",
       "      <td>3.74%</td>\n",
       "    </tr>\n",
       "    <tr>\n",
       "      <th>4</th>\n",
       "      <td>3.0</td>\n",
       "      <td>2018</td>\n",
       "      <td>$2,702.93B</td>\n",
       "      <td>$1,998</td>\n",
       "      <td>6.45%</td>\n",
       "    </tr>\n",
       "  </tbody>\n",
       "</table>\n",
       "</div>"
      ],
      "text/plain": [
       "   Unnamed: 0 India GDP - Historical Data India GDP - Historical Data.1  \\\n",
       "0         NaN                        Year                           GDP   \n",
       "1         0.0                        2021                    $3,173.40B   \n",
       "2         1.0                        2020                    $2,667.69B   \n",
       "3         2.0                        2019                    $2,831.55B   \n",
       "4         3.0                        2018                    $2,702.93B   \n",
       "\n",
       "  India GDP - Historical Data.2 India GDP - Historical Data.3  \n",
       "0                    Per Capita                        Growth  \n",
       "1                        $2,277                         8.95%  \n",
       "2                        $1,933                        -6.60%  \n",
       "3                        $2,072                         3.74%  \n",
       "4                        $1,998                         6.45%  "
      ]
     },
     "execution_count": 1,
     "metadata": {},
     "output_type": "execute_result"
    }
   ],
   "source": [
    "#print(\"hello\")\n",
    "\n",
    "import pandas as pd \n",
    "import seaborn as sns \n",
    "import matplotlib.pyplot as plt\n",
    "import warnings\n",
    "warnings.filterwarnings('ignore')\n",
    "\n",
    "df = pd.read_csv(\"India_GDP_1960-2022.csv\")\n",
    "df.head()"
   ]
  },
  {
   "cell_type": "code",
   "execution_count": 2,
   "metadata": {},
   "outputs": [
    {
     "data": {
      "text/html": [
       "<div>\n",
       "<style scoped>\n",
       "    .dataframe tbody tr th:only-of-type {\n",
       "        vertical-align: middle;\n",
       "    }\n",
       "\n",
       "    .dataframe tbody tr th {\n",
       "        vertical-align: top;\n",
       "    }\n",
       "\n",
       "    .dataframe thead th {\n",
       "        text-align: right;\n",
       "    }\n",
       "</style>\n",
       "<table border=\"1\" class=\"dataframe\">\n",
       "  <thead>\n",
       "    <tr style=\"text-align: right;\">\n",
       "      <th></th>\n",
       "      <th>India GDP - Historical Data</th>\n",
       "      <th>India GDP - Historical Data.1</th>\n",
       "      <th>India GDP - Historical Data.2</th>\n",
       "      <th>India GDP - Historical Data.3</th>\n",
       "    </tr>\n",
       "  </thead>\n",
       "  <tbody>\n",
       "    <tr>\n",
       "      <th>0</th>\n",
       "      <td>Year</td>\n",
       "      <td>GDP</td>\n",
       "      <td>Per Capita</td>\n",
       "      <td>Growth</td>\n",
       "    </tr>\n",
       "    <tr>\n",
       "      <th>1</th>\n",
       "      <td>2021</td>\n",
       "      <td>$3,173.40B</td>\n",
       "      <td>$2,277</td>\n",
       "      <td>8.95%</td>\n",
       "    </tr>\n",
       "    <tr>\n",
       "      <th>2</th>\n",
       "      <td>2020</td>\n",
       "      <td>$2,667.69B</td>\n",
       "      <td>$1,933</td>\n",
       "      <td>-6.60%</td>\n",
       "    </tr>\n",
       "    <tr>\n",
       "      <th>3</th>\n",
       "      <td>2019</td>\n",
       "      <td>$2,831.55B</td>\n",
       "      <td>$2,072</td>\n",
       "      <td>3.74%</td>\n",
       "    </tr>\n",
       "    <tr>\n",
       "      <th>4</th>\n",
       "      <td>2018</td>\n",
       "      <td>$2,702.93B</td>\n",
       "      <td>$1,998</td>\n",
       "      <td>6.45%</td>\n",
       "    </tr>\n",
       "  </tbody>\n",
       "</table>\n",
       "</div>"
      ],
      "text/plain": [
       "  India GDP - Historical Data India GDP - Historical Data.1  \\\n",
       "0                        Year                           GDP   \n",
       "1                        2021                    $3,173.40B   \n",
       "2                        2020                    $2,667.69B   \n",
       "3                        2019                    $2,831.55B   \n",
       "4                        2018                    $2,702.93B   \n",
       "\n",
       "  India GDP - Historical Data.2 India GDP - Historical Data.3  \n",
       "0                    Per Capita                        Growth  \n",
       "1                        $2,277                         8.95%  \n",
       "2                        $1,933                        -6.60%  \n",
       "3                        $2,072                         3.74%  \n",
       "4                        $1,998                         6.45%  "
      ]
     },
     "execution_count": 2,
     "metadata": {},
     "output_type": "execute_result"
    }
   ],
   "source": [
    "#Dropping the first column\n",
    "\n",
    "df.drop(columns= \"Unnamed: 0\", axis=1,inplace=True)\n",
    "\n",
    "df.head()"
   ]
  },
  {
   "cell_type": "code",
   "execution_count": 3,
   "metadata": {},
   "outputs": [
    {
     "data": {
      "text/html": [
       "<div>\n",
       "<style scoped>\n",
       "    .dataframe tbody tr th:only-of-type {\n",
       "        vertical-align: middle;\n",
       "    }\n",
       "\n",
       "    .dataframe tbody tr th {\n",
       "        vertical-align: top;\n",
       "    }\n",
       "\n",
       "    .dataframe thead th {\n",
       "        text-align: right;\n",
       "    }\n",
       "</style>\n",
       "<table border=\"1\" class=\"dataframe\">\n",
       "  <thead>\n",
       "    <tr style=\"text-align: right;\">\n",
       "      <th></th>\n",
       "      <th>Year</th>\n",
       "      <th>GDP (in billion dollars)</th>\n",
       "      <th>Per Capita (in dollars)</th>\n",
       "      <th>Growth</th>\n",
       "    </tr>\n",
       "  </thead>\n",
       "  <tbody>\n",
       "    <tr>\n",
       "      <th>0</th>\n",
       "      <td>Year</td>\n",
       "      <td>GDP</td>\n",
       "      <td>Per Capita</td>\n",
       "      <td>Growth</td>\n",
       "    </tr>\n",
       "    <tr>\n",
       "      <th>1</th>\n",
       "      <td>2021</td>\n",
       "      <td>$3,173.40B</td>\n",
       "      <td>$2,277</td>\n",
       "      <td>8.95%</td>\n",
       "    </tr>\n",
       "    <tr>\n",
       "      <th>2</th>\n",
       "      <td>2020</td>\n",
       "      <td>$2,667.69B</td>\n",
       "      <td>$1,933</td>\n",
       "      <td>-6.60%</td>\n",
       "    </tr>\n",
       "    <tr>\n",
       "      <th>3</th>\n",
       "      <td>2019</td>\n",
       "      <td>$2,831.55B</td>\n",
       "      <td>$2,072</td>\n",
       "      <td>3.74%</td>\n",
       "    </tr>\n",
       "    <tr>\n",
       "      <th>4</th>\n",
       "      <td>2018</td>\n",
       "      <td>$2,702.93B</td>\n",
       "      <td>$1,998</td>\n",
       "      <td>6.45%</td>\n",
       "    </tr>\n",
       "  </tbody>\n",
       "</table>\n",
       "</div>"
      ],
      "text/plain": [
       "   Year GDP (in billion dollars) Per Capita (in dollars)  Growth\n",
       "0  Year                      GDP              Per Capita  Growth\n",
       "1  2021               $3,173.40B                  $2,277   8.95%\n",
       "2  2020               $2,667.69B                  $1,933  -6.60%\n",
       "3  2019               $2,831.55B                  $2,072   3.74%\n",
       "4  2018               $2,702.93B                  $1,998   6.45%"
      ]
     },
     "execution_count": 3,
     "metadata": {},
     "output_type": "execute_result"
    }
   ],
   "source": [
    "#Renaming the columns \n",
    "\n",
    "columns = {\n",
    "    'India GDP - Historical Data' : 'Year',\n",
    "    'India GDP - Historical Data.1'\t: 'GDP (in billion dollars)',\n",
    "    'India GDP - Historical Data.2'\t: 'Per Capita (in dollars)',\n",
    "    'India GDP - Historical Data.3' : 'Growth'\n",
    "\n",
    "}\n",
    "\n",
    "df.rename(columns=columns,inplace=True)\n",
    "\n",
    "df.head()"
   ]
  },
  {
   "cell_type": "code",
   "execution_count": 4,
   "metadata": {},
   "outputs": [
    {
     "data": {
      "text/html": [
       "<div>\n",
       "<style scoped>\n",
       "    .dataframe tbody tr th:only-of-type {\n",
       "        vertical-align: middle;\n",
       "    }\n",
       "\n",
       "    .dataframe tbody tr th {\n",
       "        vertical-align: top;\n",
       "    }\n",
       "\n",
       "    .dataframe thead th {\n",
       "        text-align: right;\n",
       "    }\n",
       "</style>\n",
       "<table border=\"1\" class=\"dataframe\">\n",
       "  <thead>\n",
       "    <tr style=\"text-align: right;\">\n",
       "      <th></th>\n",
       "      <th>Year</th>\n",
       "      <th>GDP (in billion dollars)</th>\n",
       "      <th>Per Capita (in dollars)</th>\n",
       "      <th>Growth</th>\n",
       "    </tr>\n",
       "  </thead>\n",
       "  <tbody>\n",
       "    <tr>\n",
       "      <th>1</th>\n",
       "      <td>2021</td>\n",
       "      <td>$3,173.40B</td>\n",
       "      <td>$2,277</td>\n",
       "      <td>8.95%</td>\n",
       "    </tr>\n",
       "    <tr>\n",
       "      <th>2</th>\n",
       "      <td>2020</td>\n",
       "      <td>$2,667.69B</td>\n",
       "      <td>$1,933</td>\n",
       "      <td>-6.60%</td>\n",
       "    </tr>\n",
       "    <tr>\n",
       "      <th>3</th>\n",
       "      <td>2019</td>\n",
       "      <td>$2,831.55B</td>\n",
       "      <td>$2,072</td>\n",
       "      <td>3.74%</td>\n",
       "    </tr>\n",
       "    <tr>\n",
       "      <th>4</th>\n",
       "      <td>2018</td>\n",
       "      <td>$2,702.93B</td>\n",
       "      <td>$1,998</td>\n",
       "      <td>6.45%</td>\n",
       "    </tr>\n",
       "    <tr>\n",
       "      <th>5</th>\n",
       "      <td>2017</td>\n",
       "      <td>$2,651.47B</td>\n",
       "      <td>$1,981</td>\n",
       "      <td>6.80%</td>\n",
       "    </tr>\n",
       "    <tr>\n",
       "      <th>...</th>\n",
       "      <td>...</td>\n",
       "      <td>...</td>\n",
       "      <td>...</td>\n",
       "      <td>...</td>\n",
       "    </tr>\n",
       "    <tr>\n",
       "      <th>58</th>\n",
       "      <td>1964</td>\n",
       "      <td>$56.48B</td>\n",
       "      <td>$116</td>\n",
       "      <td>7.45%</td>\n",
       "    </tr>\n",
       "    <tr>\n",
       "      <th>59</th>\n",
       "      <td>1963</td>\n",
       "      <td>$48.42B</td>\n",
       "      <td>$101</td>\n",
       "      <td>5.99%</td>\n",
       "    </tr>\n",
       "    <tr>\n",
       "      <th>60</th>\n",
       "      <td>1962</td>\n",
       "      <td>$42.16B</td>\n",
       "      <td>$90</td>\n",
       "      <td>2.93%</td>\n",
       "    </tr>\n",
       "    <tr>\n",
       "      <th>61</th>\n",
       "      <td>1961</td>\n",
       "      <td>$39.23B</td>\n",
       "      <td>$85</td>\n",
       "      <td>3.72%</td>\n",
       "    </tr>\n",
       "    <tr>\n",
       "      <th>62</th>\n",
       "      <td>1960</td>\n",
       "      <td>$37.03B</td>\n",
       "      <td>$82</td>\n",
       "      <td>%</td>\n",
       "    </tr>\n",
       "  </tbody>\n",
       "</table>\n",
       "<p>62 rows × 4 columns</p>\n",
       "</div>"
      ],
      "text/plain": [
       "    Year GDP (in billion dollars) Per Capita (in dollars)  Growth\n",
       "1   2021               $3,173.40B                  $2,277   8.95%\n",
       "2   2020               $2,667.69B                  $1,933  -6.60%\n",
       "3   2019               $2,831.55B                  $2,072   3.74%\n",
       "4   2018               $2,702.93B                  $1,998   6.45%\n",
       "5   2017               $2,651.47B                  $1,981   6.80%\n",
       "..   ...                      ...                     ...     ...\n",
       "58  1964                  $56.48B                    $116   7.45%\n",
       "59  1963                  $48.42B                    $101   5.99%\n",
       "60  1962                  $42.16B                     $90   2.93%\n",
       "61  1961                  $39.23B                     $85   3.72%\n",
       "62  1960                  $37.03B                     $82       %\n",
       "\n",
       "[62 rows x 4 columns]"
      ]
     },
     "execution_count": 4,
     "metadata": {},
     "output_type": "execute_result"
    }
   ],
   "source": [
    "#Remove the first row.\n",
    "\n",
    "df.drop(index=0,inplace=True)\n",
    "\n",
    "df"
   ]
  },
  {
   "cell_type": "code",
   "execution_count": 5,
   "metadata": {},
   "outputs": [
    {
     "data": {
      "text/plain": [
       "Year                        0\n",
       "GDP (in billion dollars)    0\n",
       "Per Capita (in dollars)     0\n",
       "Growth                      0\n",
       "dtype: int64"
      ]
     },
     "execution_count": 5,
     "metadata": {},
     "output_type": "execute_result"
    }
   ],
   "source": [
    "#Check for null values in the dataset\n",
    "df.isnull().sum()"
   ]
  },
  {
   "cell_type": "code",
   "execution_count": 6,
   "metadata": {},
   "outputs": [],
   "source": [
    "#Convert GDP ,Per Capita and Growth columns in integer\n",
    "\n",
    "df['GDP (in billion dollars)'] = df['GDP (in billion dollars)'].replace('[\\$\\,\\.\\\"B\"]', '', regex=True).astype(int)\n",
    "df\n",
    "\n",
    "df['Per Capita (in dollars)'] = df['Per Capita (in dollars)'].replace('[\\$\\,\\.]','',regex=True).astype(int)\n",
    "df['Growth'] = df['Growth'].replace([\"%\"], [\"0%\"])\n",
    "\n",
    "df['Growth'] = df['Growth'].replace('[\\\"%\"\\.\\\"\"]', '', regex=True).astype(int)\n",
    "df['Growth'] = df['Growth']/100"
   ]
  },
  {
   "cell_type": "code",
   "execution_count": 7,
   "metadata": {},
   "outputs": [
    {
     "data": {
      "text/plain": [
       "Year                         object\n",
       "GDP (in billion dollars)      int32\n",
       "Per Capita (in dollars)       int32\n",
       "Growth                      float64\n",
       "dtype: object"
      ]
     },
     "execution_count": 7,
     "metadata": {},
     "output_type": "execute_result"
    }
   ],
   "source": [
    "#check data-type of each column\n",
    "df.dtypes"
   ]
  },
  {
   "cell_type": "markdown",
   "metadata": {},
   "source": [
    "#### Let us visualize the data"
   ]
  },
  {
   "cell_type": "markdown",
   "metadata": {},
   "source": [
    "...\n",
    "\n"
   ]
  },
  {
   "cell_type": "code",
   "execution_count": 8,
   "metadata": {},
   "outputs": [
    {
     "data": {
      "text/plain": [
       "([<matplotlib.axis.XTick at 0x205f48d8550>,\n",
       "  <matplotlib.axis.XTick at 0x205f26689d0>,\n",
       "  <matplotlib.axis.XTick at 0x205f48a4cd0>,\n",
       "  <matplotlib.axis.XTick at 0x205f49158d0>,\n",
       "  <matplotlib.axis.XTick at 0x205f4917b50>,\n",
       "  <matplotlib.axis.XTick at 0x205f4921ed0>,\n",
       "  <matplotlib.axis.XTick at 0x205f492c3d0>,\n",
       "  <matplotlib.axis.XTick at 0x205f492e5d0>,\n",
       "  <matplotlib.axis.XTick at 0x205f492d910>,\n",
       "  <matplotlib.axis.XTick at 0x205f4931290>,\n",
       "  <matplotlib.axis.XTick at 0x205f4933410>,\n",
       "  <matplotlib.axis.XTick at 0x205f4935750>,\n",
       "  <matplotlib.axis.XTick at 0x205f4937950>],\n",
       " [Text(0.0, 0, '2021'),\n",
       "  Text(5.0, 0, '2016'),\n",
       "  Text(10.0, 0, '2011'),\n",
       "  Text(15.0, 0, '2006'),\n",
       "  Text(20.0, 0, '2001'),\n",
       "  Text(25.0, 0, '1996'),\n",
       "  Text(30.0, 0, '1991'),\n",
       "  Text(35.0, 0, '1986'),\n",
       "  Text(40.0, 0, '1981'),\n",
       "  Text(45.0, 0, '1976'),\n",
       "  Text(50.0, 0, '1971'),\n",
       "  Text(55.0, 0, '1966'),\n",
       "  Text(60.0, 0, '1961')])"
      ]
     },
     "execution_count": 8,
     "metadata": {},
     "output_type": "execute_result"
    },
    {
     "data": {
      "image/png": "[encoded data removed]",
      "text/plain": [
       "<Figure size 640x480 with 1 Axes>"
      ]
     },
     "metadata": {},
     "output_type": "display_data"
    }
   ],
   "source": [
    "sns.lineplot(data=df,x='Year',y='Growth',color='red')\n",
    "plt.gca().invert_xaxis()\n",
    "\n",
    "plt.xticks(df['Year'][::5]) \n"
   ]
  },
  {
   "cell_type": "markdown",
   "metadata": {},
   "source": [
    "#### Is there a correlation between features in the dataset?"
   ]
  },
  {
   "cell_type": "markdown",
   "metadata": {},
   "source": [
    "...\n"
   ]
  },
  {
   "cell_type": "code",
   "execution_count": 9,
   "metadata": {},
   "outputs": [
    {
     "data": {
      "text/html": [
       "<style type=\"text/css\">\n",
       "#T_2f836_row0_col0, #T_2f836_row1_col1, #T_2f836_row1_col2, #T_2f836_row2_col1, #T_2f836_row2_col2, #T_2f836_row3_col3 {\n",
       "  background-color: #276419;\n",
       "  color: #f1f1f1;\n",
       "}\n",
       "#T_2f836_row0_col1 {\n",
       "  background-color: #75b43b;\n",
       "  color: #f1f1f1;\n",
       "}\n",
       "#T_2f836_row0_col2 {\n",
       "  background-color: #6bac34;\n",
       "  color: #f1f1f1;\n",
       "}\n",
       "#T_2f836_row0_col3 {\n",
       "  background-color: #d5579d;\n",
       "  color: #f1f1f1;\n",
       "}\n",
       "#T_2f836_row1_col0 {\n",
       "  background-color: #88c24c;\n",
       "  color: #000000;\n",
       "}\n",
       "#T_2f836_row1_col3, #T_2f836_row3_col0, #T_2f836_row3_col1, #T_2f836_row3_col2 {\n",
       "  background-color: #8e0152;\n",
       "  color: #f1f1f1;\n",
       "}\n",
       "#T_2f836_row2_col0 {\n",
       "  background-color: #79b73d;\n",
       "  color: #f1f1f1;\n",
       "}\n",
       "#T_2f836_row2_col3 {\n",
       "  background-color: #9b075c;\n",
       "  color: #f1f1f1;\n",
       "}\n",
       "</style>\n",
       "<table id=\"T_2f836\">\n",
       "  <thead>\n",
       "    <tr>\n",
       "      <th class=\"blank level0\" >&nbsp;</th>\n",
       "      <th id=\"T_2f836_level0_col0\" class=\"col_heading level0 col0\" >Year</th>\n",
       "      <th id=\"T_2f836_level0_col1\" class=\"col_heading level0 col1\" >GDP (in billion dollars)</th>\n",
       "      <th id=\"T_2f836_level0_col2\" class=\"col_heading level0 col2\" >Per Capita (in dollars)</th>\n",
       "      <th id=\"T_2f836_level0_col3\" class=\"col_heading level0 col3\" >Growth</th>\n",
       "    </tr>\n",
       "  </thead>\n",
       "  <tbody>\n",
       "    <tr>\n",
       "      <th id=\"T_2f836_level0_row0\" class=\"row_heading level0 row0\" >Year</th>\n",
       "      <td id=\"T_2f836_row0_col0\" class=\"data row0 col0\" >1.000000</td>\n",
       "      <td id=\"T_2f836_row0_col1\" class=\"data row0 col1\" >0.848482</td>\n",
       "      <td id=\"T_2f836_row0_col2\" class=\"data row0 col2\" >0.867579</td>\n",
       "      <td id=\"T_2f836_row0_col3\" class=\"data row0 col3\" >0.307211</td>\n",
       "    </tr>\n",
       "    <tr>\n",
       "      <th id=\"T_2f836_level0_row1\" class=\"row_heading level0 row1\" >GDP (in billion dollars)</th>\n",
       "      <td id=\"T_2f836_row1_col0\" class=\"data row1 col0\" >0.848482</td>\n",
       "      <td id=\"T_2f836_row1_col1\" class=\"data row1 col1\" >1.000000</td>\n",
       "      <td id=\"T_2f836_row1_col2\" class=\"data row1 col2\" >0.998554</td>\n",
       "      <td id=\"T_2f836_row1_col3\" class=\"data row1 col3\" >0.169999</td>\n",
       "    </tr>\n",
       "    <tr>\n",
       "      <th id=\"T_2f836_level0_row2\" class=\"row_heading level0 row2\" >Per Capita (in dollars)</th>\n",
       "      <td id=\"T_2f836_row2_col0\" class=\"data row2 col0\" >0.867579</td>\n",
       "      <td id=\"T_2f836_row2_col1\" class=\"data row2 col1\" >0.998554</td>\n",
       "      <td id=\"T_2f836_row2_col2\" class=\"data row2 col2\" >1.000000</td>\n",
       "      <td id=\"T_2f836_row2_col3\" class=\"data row2 col3\" >0.189860</td>\n",
       "    </tr>\n",
       "    <tr>\n",
       "      <th id=\"T_2f836_level0_row3\" class=\"row_heading level0 row3\" >Growth</th>\n",
       "      <td id=\"T_2f836_row3_col0\" class=\"data row3 col0\" >0.307211</td>\n",
       "      <td id=\"T_2f836_row3_col1\" class=\"data row3 col1\" >0.169999</td>\n",
       "      <td id=\"T_2f836_row3_col2\" class=\"data row3 col2\" >0.189860</td>\n",
       "      <td id=\"T_2f836_row3_col3\" class=\"data row3 col3\" >1.000000</td>\n",
       "    </tr>\n",
       "  </tbody>\n",
       "</table>\n"
      ],
      "text/plain": [
       "<pandas.io.formats.style.Styler at 0x205f4933090>"
      ]
     },
     "execution_count": 9,
     "metadata": {},
     "output_type": "execute_result"
    }
   ],
   "source": [
    "corr = df.corr()\n",
    "corr.style.background_gradient(cmap='PiYG')"
   ]
  },
  {
   "cell_type": "code",
   "execution_count": 10,
   "metadata": {},
   "outputs": [
    {
     "data": {
      "text/plain": [
       "<Axes: xlabel='GDP (in billion dollars)', ylabel='Per Capita (in dollars)'>"
      ]
     },
     "execution_count": 10,
     "metadata": {},
     "output_type": "execute_result"
    },
    {
     "data": {
      "image/png": "[encoded data removed]",
      "text/plain": [
       "<Figure size 640x480 with 1 Axes>"
      ]
     },
     "metadata": {},
     "output_type": "display_data"
    }
   ],
   "source": [
    "sns.scatterplot(data=df,x='GDP (in billion dollars)',y='Per Capita (in dollars)',hue='GDP (in billion dollars)',edgecolor='0.2')"
   ]
  },
  {
   "cell_type": "markdown",
   "metadata": {},
   "source": [
    "We can conclude that Per Capita Income is positively correlated to Gross Domestic Product. It is 99% positively correlated. The higher the GDP increases so does the per capita income as evident in the scatterplot above.\n",
    "\n"
   ]
  },
  {
   "cell_type": "code",
   "execution_count": 11,
   "metadata": {},
   "outputs": [
    {
     "data": {
      "text/html": [
       "<div>\n",
       "<style scoped>\n",
       "    .dataframe tbody tr th:only-of-type {\n",
       "        vertical-align: middle;\n",
       "    }\n",
       "\n",
       "    .dataframe tbody tr th {\n",
       "        vertical-align: top;\n",
       "    }\n",
       "\n",
       "    .dataframe thead th {\n",
       "        text-align: right;\n",
       "    }\n",
       "</style>\n",
       "<table border=\"1\" class=\"dataframe\">\n",
       "  <thead>\n",
       "    <tr style=\"text-align: right;\">\n",
       "      <th></th>\n",
       "      <th>Growth</th>\n",
       "      <th>Year</th>\n",
       "    </tr>\n",
       "  </thead>\n",
       "  <tbody>\n",
       "    <tr>\n",
       "      <th>2</th>\n",
       "      <td>-6.60</td>\n",
       "      <td>2020</td>\n",
       "    </tr>\n",
       "    <tr>\n",
       "      <th>43</th>\n",
       "      <td>-5.24</td>\n",
       "      <td>1979</td>\n",
       "    </tr>\n",
       "    <tr>\n",
       "      <th>57</th>\n",
       "      <td>-2.64</td>\n",
       "      <td>1965</td>\n",
       "    </tr>\n",
       "    <tr>\n",
       "      <th>50</th>\n",
       "      <td>-0.55</td>\n",
       "      <td>1972</td>\n",
       "    </tr>\n",
       "    <tr>\n",
       "      <th>56</th>\n",
       "      <td>-0.06</td>\n",
       "      <td>1966</td>\n",
       "    </tr>\n",
       "    <tr>\n",
       "      <th>...</th>\n",
       "      <td>...</td>\n",
       "      <td>...</td>\n",
       "    </tr>\n",
       "    <tr>\n",
       "      <th>12</th>\n",
       "      <td>8.50</td>\n",
       "      <td>2010</td>\n",
       "    </tr>\n",
       "    <tr>\n",
       "      <th>23</th>\n",
       "      <td>8.85</td>\n",
       "      <td>1999</td>\n",
       "    </tr>\n",
       "    <tr>\n",
       "      <th>1</th>\n",
       "      <td>8.95</td>\n",
       "      <td>2021</td>\n",
       "    </tr>\n",
       "    <tr>\n",
       "      <th>47</th>\n",
       "      <td>9.15</td>\n",
       "      <td>1975</td>\n",
       "    </tr>\n",
       "    <tr>\n",
       "      <th>34</th>\n",
       "      <td>9.63</td>\n",
       "      <td>1988</td>\n",
       "    </tr>\n",
       "  </tbody>\n",
       "</table>\n",
       "<p>62 rows × 2 columns</p>\n",
       "</div>"
      ],
      "text/plain": [
       "    Growth  Year\n",
       "2    -6.60  2020\n",
       "43   -5.24  1979\n",
       "57   -2.64  1965\n",
       "50   -0.55  1972\n",
       "56   -0.06  1966\n",
       "..     ...   ...\n",
       "12    8.50  2010\n",
       "23    8.85  1999\n",
       "1     8.95  2021\n",
       "47    9.15  1975\n",
       "34    9.63  1988\n",
       "\n",
       "[62 rows x 2 columns]"
      ]
     },
     "execution_count": 11,
     "metadata": {},
     "output_type": "execute_result"
    }
   ],
   "source": [
    "#The growth rate in ascending order by years.\n",
    "\n",
    "df[[\"Growth\",\"Year\"]].sort_values(by=\"Growth\",ascending=True)"
   ]
  },
  {
   "cell_type": "markdown",
   "metadata": {},
   "source": [
    "We can see that the growth was negative on 2020,1979 and 1965. The negative growth on 2020 is due to the corona virus outbreak which hit the economy hard. Whereas,severe drought affected large parts of the country which led to a decline of 10% in agricultural production.The poor performance of coal,power and rails transport affected the overall economic health of the country.With farm sector accounting for the dominant share of GDP, and given weak external balances, most recessions like the ones in 1965-1966 were driven by severe droughts or high international energy prices."
   ]
  },
  {
   "cell_type": "markdown",
   "metadata": {},
   "source": [
    "#### Conclusion ####\n",
    "\n",
    "#### The Gross Domestic Product of India reached 3.4 trillion dollars ,making India the fifth larget economy in the world and it will play a crucial role in the \"India Story\" for the times to come. ####"
   ]
  }
 ],
 "metadata": {
  "kernelspec": {
   "display_name": "Python 3",
   "language": "python",
   "name": "python3"
  },
  "language_info": {
   "codemirror_mode": {
    "name": "ipython",
    "version": 3
   },
   "file_extension": ".py",
   "mimetype": "text/x-python",
   "name": "python",
   "nbconvert_exporter": "python",
   "pygments_lexer": "ipython3",
   "version": "3.11.7"
  }
 },
 "nbformat": 4,
 "nbformat_minor": 2
}
